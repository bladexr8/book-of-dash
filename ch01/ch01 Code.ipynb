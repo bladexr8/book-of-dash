{
 "cells": [
  {
   "cell_type": "markdown",
   "id": "ad86be04",
   "metadata": {},
   "source": [
    "# Lists"
   ]
  },
  {
   "cell_type": "code",
   "execution_count": 1,
   "id": "da744aa7",
   "metadata": {},
   "outputs": [
    {
     "name": "stdout",
     "output_type": "stream",
     "text": [
      "3\n"
     ]
    }
   ],
   "source": [
    "# create list and print length\n",
    "lst = [1,2,3]\n",
    "print(len(lst))"
   ]
  },
  {
   "cell_type": "code",
   "execution_count": 2,
   "id": "9d8e0f75",
   "metadata": {},
   "outputs": [
    {
     "name": "stdout",
     "output_type": "stream",
     "text": [
      "[1, 2, 2, 4]\n"
     ]
    }
   ],
   "source": [
    "# append an item using append() method\n",
    "lst01 = [1,2,2]\n",
    "lst01.append(4)\n",
    "print(lst01)"
   ]
  },
  {
   "cell_type": "code",
   "execution_count": 3,
   "id": "33d5fa3d",
   "metadata": {},
   "outputs": [
    {
     "name": "stdout",
     "output_type": "stream",
     "text": [
      "[1, 2, 2, 4]\n"
     ]
    }
   ],
   "source": [
    "# insert at a given position\n",
    "lst02 = [1,2,4]\n",
    "lst02.insert(2,2)\n",
    "print(lst02)"
   ]
  },
  {
   "cell_type": "code",
   "execution_count": 4,
   "id": "93cbea35",
   "metadata": {},
   "outputs": [
    {
     "name": "stdout",
     "output_type": "stream",
     "text": [
      "[1, 2, 2, 4]\n"
     ]
    }
   ],
   "source": [
    "# list concatenation\n",
    "print([1,2,2] + [4])"
   ]
  },
  {
   "cell_type": "code",
   "execution_count": 5,
   "id": "4b6aba2a",
   "metadata": {},
   "outputs": [
    {
     "name": "stdout",
     "output_type": "stream",
     "text": [
      "[1, 2, 2, 4]\n"
     ]
    }
   ],
   "source": [
    "# append multiple elements using extend() method\n",
    "lst03 = [1,2]\n",
    "lst03.extend([2,4])\n",
    "print(lst03)"
   ]
  },
  {
   "cell_type": "code",
   "execution_count": 6,
   "id": "a3f58036",
   "metadata": {},
   "outputs": [
    {
     "name": "stdout",
     "output_type": "stream",
     "text": [
      "[2, 2, 4]\n"
     ]
    }
   ],
   "source": [
    "# removing elements\n",
    "lst04 = [1,2,2,4]\n",
    "lst04.remove(1)\n",
    "print(lst04)"
   ]
  },
  {
   "cell_type": "code",
   "execution_count": 7,
   "id": "81c6d24d",
   "metadata": {},
   "outputs": [
    {
     "name": "stdout",
     "output_type": "stream",
     "text": [
      "[4, 2, 2, 1]\n"
     ]
    }
   ],
   "source": [
    "# reversing a list\n",
    "lst05 = [1,2,2,4]\n",
    "lst05.reverse()\n",
    "print(lst05)"
   ]
  },
  {
   "cell_type": "code",
   "execution_count": 8,
   "id": "0fa5cbeb",
   "metadata": {},
   "outputs": [
    {
     "name": "stdout",
     "output_type": "stream",
     "text": [
      "[1, 2, 2, 4]\n"
     ]
    }
   ],
   "source": [
    "# sort list in ascending order\n",
    "lst06 = [2,1,4,2]\n",
    "lst06.sort()\n",
    "print(lst06)"
   ]
  },
  {
   "cell_type": "code",
   "execution_count": 9,
   "id": "8767e39c",
   "metadata": {},
   "outputs": [
    {
     "name": "stdout",
     "output_type": "stream",
     "text": [
      "[4, 2, 2, 1]\n"
     ]
    }
   ],
   "source": [
    "# sort list in descending order\n",
    "lst07 = [2,1,4,2]\n",
    "lst07.sort(reverse=True)\n",
    "print(lst07)"
   ]
  },
  {
   "cell_type": "code",
   "execution_count": 10,
   "id": "408668ab",
   "metadata": {},
   "outputs": [
    {
     "name": "stdout",
     "output_type": "stream",
     "text": [
      "0\n",
      "1\n"
     ]
    }
   ],
   "source": [
    "# find index of an element\n",
    "print([2,2,4].index(2))\n",
    "\n",
    "# specify a starting position\n",
    "print([2,2,4].index(2,1))"
   ]
  },
  {
   "cell_type": "markdown",
   "id": "65eb3377",
   "metadata": {},
   "source": [
    "# Slicing"
   ]
  },
  {
   "cell_type": "code",
   "execution_count": 11,
   "id": "11785d9d",
   "metadata": {},
   "outputs": [
    {
     "name": "stdout",
     "output_type": "stream",
     "text": [
      "python\n"
     ]
    }
   ],
   "source": [
    "# slicing\n",
    "# string[start:stop:step]\n",
    "# defaults - start=0, stop=len(string), step=1\n",
    "s = '----p-y-t-h-o-n----'\n",
    "print(s[4:15:2])"
   ]
  },
  {
   "cell_type": "code",
   "execution_count": 12,
   "id": "484a4c65",
   "metadata": {},
   "outputs": [
    {
     "name": "stdout",
     "output_type": "stream",
     "text": [
      "iv\n"
     ]
    }
   ],
   "source": [
    "# slice with defaults\n",
    "x = 'universe'\n",
    "print(x[2:4])"
   ]
  },
  {
   "cell_type": "code",
   "execution_count": 13,
   "id": "90b5212e",
   "metadata": {},
   "outputs": [
    {
     "name": "stdout",
     "output_type": "stream",
     "text": [
      "ies\n"
     ]
    }
   ],
   "source": [
    "# specify start but no stop, step of 2 to get every other character\n",
    "print(x[2::2])"
   ]
  },
  {
   "cell_type": "markdown",
   "id": "6344b5e5",
   "metadata": {},
   "source": [
    "# Dictionaries"
   ]
  },
  {
   "cell_type": "code",
   "execution_count": 14,
   "id": "8d1c8c3f",
   "metadata": {},
   "outputs": [
    {
     "name": "stdout",
     "output_type": "stream",
     "text": [
      "True\n"
     ]
    }
   ],
   "source": [
    "# dictionaries\n",
    "calories = { 'apple': 52, 'banana': 89, 'choco': 546}\n",
    "print(calories['apple'] < calories['choco'])"
   ]
  },
  {
   "cell_type": "code",
   "execution_count": 15,
   "id": "28775553",
   "metadata": {},
   "outputs": [
    {
     "name": "stdout",
     "output_type": "stream",
     "text": [
      "{'apple': 52, 'banana': 89, 'choco': 546, 'cappu': 74}\n"
     ]
    }
   ],
   "source": [
    "# add a new element\n",
    "calories['cappu'] = 74\n",
    "print(calories)"
   ]
  },
  {
   "cell_type": "code",
   "execution_count": 16,
   "id": "d919dca9",
   "metadata": {},
   "outputs": [
    {
     "name": "stdout",
     "output_type": "stream",
     "text": [
      "dict_keys(['apple', 'banana', 'choco', 'cappu'])\n",
      "dict_values([52, 89, 546, 74])\n"
     ]
    }
   ],
   "source": [
    "# keys() contains all keys of dictionary\n",
    "# values() contains all values of dictionary\n",
    "print(calories.keys())\n",
    "print(calories.values())"
   ]
  },
  {
   "cell_type": "code",
   "execution_count": 18,
   "id": "afbdd61f",
   "metadata": {},
   "outputs": [
    {
     "name": "stdout",
     "output_type": "stream",
     "text": [
      "True\n",
      "True\n"
     ]
    }
   ],
   "source": [
    "print('apple' in calories.keys())\n",
    "print(52 in calories.values())"
   ]
  },
  {
   "cell_type": "code",
   "execution_count": 19,
   "id": "a571827c",
   "metadata": {},
   "outputs": [
    {
     "name": "stdout",
     "output_type": "stream",
     "text": [
      "choco\n"
     ]
    }
   ],
   "source": [
    "# use items() method to access all key-value pairs\n",
    "for key, value in calories.items():\n",
    "    if value > 500:\n",
    "        print(key)"
   ]
  },
  {
   "cell_type": "markdown",
   "id": "e28d4ac8",
   "metadata": {},
   "source": [
    "# List Comprehension"
   ]
  },
  {
   "cell_type": "code",
   "execution_count": 20,
   "id": "490757fb",
   "metadata": {},
   "outputs": [
    {
     "name": "stdout",
     "output_type": "stream",
     "text": [
      "[{'label': 'Mon', 'value': 'Mon'}, {'label': 'Tue', 'value': 'Tue'}, {'label': 'Wed', 'value': 'Wed'}, {'label': 'Thu', 'value': 'Thu'}, {'label': 'Fri', 'value': 'Fri'}, {'label': 'Sat', 'value': 'Sat'}, {'label': 'Sun', 'value': 'Sun'}]\n"
     ]
    }
   ],
   "source": [
    "# list comprehension - create list from a context\n",
    "days = ['Mon', 'Tue', 'Wed', 'Thu', 'Fri', 'Sat', 'Sun']\n",
    "options = [{'label': day, 'value': day} for day in days]\n",
    "print(options)"
   ]
  },
  {
   "cell_type": "markdown",
   "id": "2cb536db",
   "metadata": {},
   "source": [
    "# Classes and Objects"
   ]
  },
  {
   "cell_type": "code",
   "execution_count": 22,
   "id": "76484988",
   "metadata": {},
   "outputs": [
    {
     "name": "stdout",
     "output_type": "stream",
     "text": [
      "Vernon\n",
      "Petunia\n"
     ]
    }
   ],
   "source": [
    "# class with properties only\n",
    "class Muggle:\n",
    "    def __init__(self, age, name, liking_person):\n",
    "        self.age = age\n",
    "        self.name = name\n",
    "        self.likes = liking_person\n",
    "        \n",
    "Vernon = Muggle(52, \"Vernon\", None)\n",
    "Petunia = Muggle(49, \"Petunia\", Vernon)\n",
    "\n",
    "print(Vernon.name)\n",
    "print(Petunia.name)"
   ]
  },
  {
   "cell_type": "code",
   "execution_count": 23,
   "id": "5fe253c6",
   "metadata": {},
   "outputs": [
    {
     "name": "stdout",
     "output_type": "stream",
     "text": [
      "Tom\n",
      "Tom\n"
     ]
    }
   ],
   "source": [
    "# class with properties and methods\n",
    "class Wizard:\n",
    "    def __init__(self, age, name):\n",
    "        self.age = age\n",
    "        self.name = name\n",
    "        self.mana = 100\n",
    "        \n",
    "    def love_me(self, victim):\n",
    "        if self.mana >= 100:\n",
    "            victim.likes = self.name\n",
    "            self.mana = self.mana - 100\n",
    "            \n",
    "Wiz = Wizard(42, \"Tom\")\n",
    "print(Wiz.name)\n",
    "\n",
    "# cast love spell on Petunia\n",
    "Wiz.love_me(Petunia)\n",
    "print(Petunia.likes)"
   ]
  },
  {
   "cell_type": "markdown",
   "id": "613786da",
   "metadata": {},
   "source": [
    "# Decorator Functions"
   ]
  },
  {
   "cell_type": "code",
   "execution_count": 24,
   "id": "0304d88c",
   "metadata": {},
   "outputs": [
    {
     "name": "stdout",
     "output_type": "stream",
     "text": [
      "++++++++++++++++++++++++++++++++++++++++++++++++++\n",
      "Hello World!\n",
      "++++++++++++++++++++++++++++++++++++++++++++++++++\n",
      "++++++++++++++++++++++++++++++++++++++++++++++++++\n",
      "Hello universe!\n",
      "++++++++++++++++++++++++++++++++++++++++++++++++++\n"
     ]
    }
   ],
   "source": [
    "# decorator function (the long way)\n",
    "def pretty_print_decorator(f):\n",
    "    annotate = '+'\n",
    "    \n",
    "    def pretty_print():\n",
    "        print(annotate * 50)\n",
    "        f()\n",
    "        print(annotate * 50)\n",
    "        \n",
    "    return pretty_print\n",
    "\n",
    "def print_text():\n",
    "    print(\"Hello World!\")\n",
    "    \n",
    "def print_text_2():\n",
    "    print(\"Hello universe!\")\n",
    "    \n",
    "pretty_print_decorator(print_text)()\n",
    "pretty_print_decorator(print_text_2)()\n"
   ]
  },
  {
   "cell_type": "code",
   "execution_count": 25,
   "id": "0b56d37e",
   "metadata": {},
   "outputs": [
    {
     "name": "stdout",
     "output_type": "stream",
     "text": [
      "++++++++++++++++++++++++++++++++++++++++++++++++++\n",
      "Hello World!\n",
      "++++++++++++++++++++++++++++++++++++++++++++++++++\n",
      "++++++++++++++++++++++++++++++++++++++++++++++++++\n",
      "Hello Universe!\n",
      "++++++++++++++++++++++++++++++++++++++++++++++++++\n"
     ]
    }
   ],
   "source": [
    "# decorator functions (using annotations)\n",
    "\n",
    "@pretty_print_decorator\n",
    "def print_text_3():\n",
    "    print(\"Hello World!\")\n",
    "    \n",
    "@pretty_print_decorator\n",
    "def print_text_4():\n",
    "    print(\"Hello Universe!\")\n",
    "\n",
    "print_text_3()\n",
    "print_text_4()\n"
   ]
  },
  {
   "cell_type": "code",
   "execution_count": null,
   "id": "d554ba1d",
   "metadata": {},
   "outputs": [],
   "source": []
  }
 ],
 "metadata": {
  "kernelspec": {
   "display_name": "Python 3 (ipykernel)",
   "language": "python",
   "name": "python3"
  },
  "language_info": {
   "codemirror_mode": {
    "name": "ipython",
    "version": 3
   },
   "file_extension": ".py",
   "mimetype": "text/x-python",
   "name": "python",
   "nbconvert_exporter": "python",
   "pygments_lexer": "ipython3",
   "version": "3.9.16"
  }
 },
 "nbformat": 4,
 "nbformat_minor": 5
}
